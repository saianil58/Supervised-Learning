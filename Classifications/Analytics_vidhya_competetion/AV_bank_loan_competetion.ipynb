{
 "cells": [
  {
   "cell_type": "markdown",
   "metadata": {},
   "source": [
    "# Loan Prediction Competetion - Analytics Vidhya\n",
    "https://datahack.analyticsvidhya.com/contest/practice-problem-loan-prediction-iii/"
   ]
  },
  {
   "cell_type": "markdown",
   "metadata": {},
   "source": [
    "###  About Company\n",
    "Dream Housing Finance company deals in all home loans. They have presence across all urban, semi urban and rural areas. Customer first apply for home loan after that company validates the customer eligibility for loan.\n",
    "\n",
    "### Problem\n",
    "Company wants to automate the loan eligibility process (real time) based on customer detail provided while filling online application form. These details are Gender, Marital Status, Education, Number of Dependents, Income, Loan Amount, Credit History and others. To automate this process, they have given a problem to identify the customers segments, those are eligible for loan amount so that they can specifically target these customers. Here they have provided a partial data set."
   ]
  },
  {
   "cell_type": "code",
   "execution_count": 1,
   "metadata": {},
   "outputs": [],
   "source": [
    "# import all libraries\n",
    "\n",
    "import pandas as pd #basic\n",
    "import numpy as np #basic\n",
    "# import pandas_profiling as pp #EDA\n",
    "\n",
    "from scipy.stats import shapiro,pearsonr #Stats\n",
    "import scipy.stats as stats #Stats\n",
    "\n",
    "import plotly.express as px #visualization\n",
    "import plotly.graph_objs as go#visualization\n",
    "import plotly.offline as py#visualization\n",
    "import plotly.figure_factory as ff#visualization\n",
    "import seaborn as sns\n",
    "\n",
    "from sklearn.preprocessing import LabelEncoder,StandardScaler\n",
    "from sklearn.model_selection import train_test_split #Split data\n",
    "from sklearn import preprocessing #manipulate data\n",
    "from sklearn.metrics import confusion_matrix,accuracy_score,classification_report,precision_score,recall_score,f1_score\n",
    "\n",
    "from sklearn.neighbors import KNeighborsClassifier\n",
    "from sklearn.linear_model import LogisticRegression\n",
    "from sklearn.naive_bayes import GaussianNB\n",
    "from sklearn.tree import DecisionTreeClassifier\n",
    "from sklearn.neighbors import RadiusNeighborsClassifier\n",
    "\n",
    "\n",
    "from sklearn.ensemble import BaggingClassifier\n",
    "from sklearn.ensemble import AdaBoostClassifier\n",
    "from sklearn.ensemble import GradientBoostingClassifier\n",
    "\n",
    "from sklearn.ensemble import RandomForestClassifier\n",
    "from imblearn.ensemble import BalancedRandomForestClassifier\n",
    "\n",
    "\n",
    "from imblearn.ensemble import BalancedBaggingClassifier\n",
    "\n",
    "from sklearn.ensemble import VotingClassifier\n",
    "\n",
    "\n",
    "import xgboost  as xgb\n",
    "from catboost import CatBoostClassifier\n",
    "import lightgbm as lgbm"
   ]
  },
  {
   "cell_type": "markdown",
   "metadata": {},
   "source": [
    "# Load Data"
   ]
  },
  {
   "cell_type": "code",
   "execution_count": 2,
   "metadata": {},
   "outputs": [],
   "source": [
    "train= pd.read_csv('train_ctrUa4K.csv',index_col='Loan_ID')\n",
    "loans = train.copy()"
   ]
  },
  {
   "cell_type": "code",
   "execution_count": 3,
   "metadata": {},
   "outputs": [
    {
     "name": "stdout",
     "output_type": "stream",
     "text": [
      "Rows     :  614\n",
      "Columns  :  12\n",
      "\n",
      "Features : \n",
      " ['Gender', 'Married', 'Dependents', 'Education', 'Self_Employed', 'ApplicantIncome', 'CoapplicantIncome', 'LoanAmount', 'Loan_Amount_Term', 'Credit_History', 'Property_Area', 'Loan_Status']\n",
      "\n",
      "Missing values :   149\n",
      "\n",
      "Unique values :  \n",
      " Gender                 2\n",
      "Married                2\n",
      "Dependents             4\n",
      "Education              2\n",
      "Self_Employed          2\n",
      "ApplicantIncome      505\n",
      "CoapplicantIncome    287\n",
      "LoanAmount           203\n",
      "Loan_Amount_Term      10\n",
      "Credit_History         2\n",
      "Property_Area          3\n",
      "Loan_Status            2\n",
      "dtype: int64\n"
     ]
    }
   ],
   "source": [
    "print (\"Rows     : \" ,loans.shape[0])\n",
    "print (\"Columns  : \" ,loans.shape[1])\n",
    "print (\"\\nFeatures : \\n\" ,loans.columns.tolist())\n",
    "print (\"\\nMissing values :  \", loans.isnull().sum().values.sum())\n",
    "print (\"\\nUnique values :  \\n\",loans.nunique())"
   ]
  },
  {
   "cell_type": "code",
   "execution_count": 4,
   "metadata": {},
   "outputs": [
    {
     "data": {
      "text/html": [
       "<div>\n",
       "<style scoped>\n",
       "    .dataframe tbody tr th:only-of-type {\n",
       "        vertical-align: middle;\n",
       "    }\n",
       "\n",
       "    .dataframe tbody tr th {\n",
       "        vertical-align: top;\n",
       "    }\n",
       "\n",
       "    .dataframe thead th {\n",
       "        text-align: right;\n",
       "    }\n",
       "</style>\n",
       "<table border=\"1\" class=\"dataframe\">\n",
       "  <thead>\n",
       "    <tr style=\"text-align: right;\">\n",
       "      <th></th>\n",
       "      <th>count</th>\n",
       "      <th>unique</th>\n",
       "      <th>top</th>\n",
       "      <th>freq</th>\n",
       "      <th>mean</th>\n",
       "      <th>std</th>\n",
       "      <th>min</th>\n",
       "      <th>25%</th>\n",
       "      <th>50%</th>\n",
       "      <th>75%</th>\n",
       "      <th>max</th>\n",
       "    </tr>\n",
       "  </thead>\n",
       "  <tbody>\n",
       "    <tr>\n",
       "      <td>Gender</td>\n",
       "      <td>601</td>\n",
       "      <td>2</td>\n",
       "      <td>Male</td>\n",
       "      <td>489</td>\n",
       "      <td>NaN</td>\n",
       "      <td>NaN</td>\n",
       "      <td>NaN</td>\n",
       "      <td>NaN</td>\n",
       "      <td>NaN</td>\n",
       "      <td>NaN</td>\n",
       "      <td>NaN</td>\n",
       "    </tr>\n",
       "    <tr>\n",
       "      <td>Married</td>\n",
       "      <td>611</td>\n",
       "      <td>2</td>\n",
       "      <td>Yes</td>\n",
       "      <td>398</td>\n",
       "      <td>NaN</td>\n",
       "      <td>NaN</td>\n",
       "      <td>NaN</td>\n",
       "      <td>NaN</td>\n",
       "      <td>NaN</td>\n",
       "      <td>NaN</td>\n",
       "      <td>NaN</td>\n",
       "    </tr>\n",
       "    <tr>\n",
       "      <td>Dependents</td>\n",
       "      <td>599</td>\n",
       "      <td>4</td>\n",
       "      <td>0</td>\n",
       "      <td>345</td>\n",
       "      <td>NaN</td>\n",
       "      <td>NaN</td>\n",
       "      <td>NaN</td>\n",
       "      <td>NaN</td>\n",
       "      <td>NaN</td>\n",
       "      <td>NaN</td>\n",
       "      <td>NaN</td>\n",
       "    </tr>\n",
       "    <tr>\n",
       "      <td>Education</td>\n",
       "      <td>614</td>\n",
       "      <td>2</td>\n",
       "      <td>Graduate</td>\n",
       "      <td>480</td>\n",
       "      <td>NaN</td>\n",
       "      <td>NaN</td>\n",
       "      <td>NaN</td>\n",
       "      <td>NaN</td>\n",
       "      <td>NaN</td>\n",
       "      <td>NaN</td>\n",
       "      <td>NaN</td>\n",
       "    </tr>\n",
       "    <tr>\n",
       "      <td>Self_Employed</td>\n",
       "      <td>582</td>\n",
       "      <td>2</td>\n",
       "      <td>No</td>\n",
       "      <td>500</td>\n",
       "      <td>NaN</td>\n",
       "      <td>NaN</td>\n",
       "      <td>NaN</td>\n",
       "      <td>NaN</td>\n",
       "      <td>NaN</td>\n",
       "      <td>NaN</td>\n",
       "      <td>NaN</td>\n",
       "    </tr>\n",
       "    <tr>\n",
       "      <td>ApplicantIncome</td>\n",
       "      <td>614</td>\n",
       "      <td>NaN</td>\n",
       "      <td>NaN</td>\n",
       "      <td>NaN</td>\n",
       "      <td>5403.46</td>\n",
       "      <td>6109.04</td>\n",
       "      <td>150</td>\n",
       "      <td>2877.5</td>\n",
       "      <td>3812.5</td>\n",
       "      <td>5795</td>\n",
       "      <td>81000</td>\n",
       "    </tr>\n",
       "    <tr>\n",
       "      <td>CoapplicantIncome</td>\n",
       "      <td>614</td>\n",
       "      <td>NaN</td>\n",
       "      <td>NaN</td>\n",
       "      <td>NaN</td>\n",
       "      <td>1621.25</td>\n",
       "      <td>2926.25</td>\n",
       "      <td>0</td>\n",
       "      <td>0</td>\n",
       "      <td>1188.5</td>\n",
       "      <td>2297.25</td>\n",
       "      <td>41667</td>\n",
       "    </tr>\n",
       "    <tr>\n",
       "      <td>LoanAmount</td>\n",
       "      <td>592</td>\n",
       "      <td>NaN</td>\n",
       "      <td>NaN</td>\n",
       "      <td>NaN</td>\n",
       "      <td>146.412</td>\n",
       "      <td>85.5873</td>\n",
       "      <td>9</td>\n",
       "      <td>100</td>\n",
       "      <td>128</td>\n",
       "      <td>168</td>\n",
       "      <td>700</td>\n",
       "    </tr>\n",
       "    <tr>\n",
       "      <td>Loan_Amount_Term</td>\n",
       "      <td>600</td>\n",
       "      <td>NaN</td>\n",
       "      <td>NaN</td>\n",
       "      <td>NaN</td>\n",
       "      <td>342</td>\n",
       "      <td>65.1204</td>\n",
       "      <td>12</td>\n",
       "      <td>360</td>\n",
       "      <td>360</td>\n",
       "      <td>360</td>\n",
       "      <td>480</td>\n",
       "    </tr>\n",
       "    <tr>\n",
       "      <td>Credit_History</td>\n",
       "      <td>564</td>\n",
       "      <td>NaN</td>\n",
       "      <td>NaN</td>\n",
       "      <td>NaN</td>\n",
       "      <td>0.842199</td>\n",
       "      <td>0.364878</td>\n",
       "      <td>0</td>\n",
       "      <td>1</td>\n",
       "      <td>1</td>\n",
       "      <td>1</td>\n",
       "      <td>1</td>\n",
       "    </tr>\n",
       "    <tr>\n",
       "      <td>Property_Area</td>\n",
       "      <td>614</td>\n",
       "      <td>3</td>\n",
       "      <td>Semiurban</td>\n",
       "      <td>233</td>\n",
       "      <td>NaN</td>\n",
       "      <td>NaN</td>\n",
       "      <td>NaN</td>\n",
       "      <td>NaN</td>\n",
       "      <td>NaN</td>\n",
       "      <td>NaN</td>\n",
       "      <td>NaN</td>\n",
       "    </tr>\n",
       "    <tr>\n",
       "      <td>Loan_Status</td>\n",
       "      <td>614</td>\n",
       "      <td>2</td>\n",
       "      <td>Y</td>\n",
       "      <td>422</td>\n",
       "      <td>NaN</td>\n",
       "      <td>NaN</td>\n",
       "      <td>NaN</td>\n",
       "      <td>NaN</td>\n",
       "      <td>NaN</td>\n",
       "      <td>NaN</td>\n",
       "      <td>NaN</td>\n",
       "    </tr>\n",
       "  </tbody>\n",
       "</table>\n",
       "</div>"
      ],
      "text/plain": [
       "                  count unique        top freq      mean       std  min  \\\n",
       "Gender              601      2       Male  489       NaN       NaN  NaN   \n",
       "Married             611      2        Yes  398       NaN       NaN  NaN   \n",
       "Dependents          599      4          0  345       NaN       NaN  NaN   \n",
       "Education           614      2   Graduate  480       NaN       NaN  NaN   \n",
       "Self_Employed       582      2         No  500       NaN       NaN  NaN   \n",
       "ApplicantIncome     614    NaN        NaN  NaN   5403.46   6109.04  150   \n",
       "CoapplicantIncome   614    NaN        NaN  NaN   1621.25   2926.25    0   \n",
       "LoanAmount          592    NaN        NaN  NaN   146.412   85.5873    9   \n",
       "Loan_Amount_Term    600    NaN        NaN  NaN       342   65.1204   12   \n",
       "Credit_History      564    NaN        NaN  NaN  0.842199  0.364878    0   \n",
       "Property_Area       614      3  Semiurban  233       NaN       NaN  NaN   \n",
       "Loan_Status         614      2          Y  422       NaN       NaN  NaN   \n",
       "\n",
       "                      25%     50%      75%    max  \n",
       "Gender                NaN     NaN      NaN    NaN  \n",
       "Married               NaN     NaN      NaN    NaN  \n",
       "Dependents            NaN     NaN      NaN    NaN  \n",
       "Education             NaN     NaN      NaN    NaN  \n",
       "Self_Employed         NaN     NaN      NaN    NaN  \n",
       "ApplicantIncome    2877.5  3812.5     5795  81000  \n",
       "CoapplicantIncome       0  1188.5  2297.25  41667  \n",
       "LoanAmount            100     128      168    700  \n",
       "Loan_Amount_Term      360     360      360    480  \n",
       "Credit_History          1       1        1      1  \n",
       "Property_Area         NaN     NaN      NaN    NaN  \n",
       "Loan_Status           NaN     NaN      NaN    NaN  "
      ]
     },
     "execution_count": 4,
     "metadata": {},
     "output_type": "execute_result"
    }
   ],
   "source": [
    "loans.describe(include='all').transpose()"
   ]
  },
  {
   "cell_type": "code",
   "execution_count": 5,
   "metadata": {},
   "outputs": [],
   "source": [
    "df_new=loans.copy()\n",
    "# pp.ProfileReport(df_new)"
   ]
  },
  {
   "cell_type": "code",
   "execution_count": 6,
   "metadata": {},
   "outputs": [],
   "source": [
    "# loans['total_income']=loans['ApplicantIncome']+loans['CoapplicantIncome']\n",
    "\n",
    "Id_col = ['Loan_ID']\n",
    "target_col = ['Loan_Status']\n",
    "exclude = []    \n",
    "cat_cols = loans.nunique()[loans.nunique() < 6].keys().tolist()\n",
    "cat_cols = [x for x in cat_cols if x not in target_col + exclude]\n",
    "num_cols = [x for x in loans.columns if x not in cat_cols+ target_col + Id_col + exclude]\n",
    "bin_cols   = loans.nunique()[loans.nunique() == 2].keys().tolist()\n",
    "multi_cols = [i for i in cat_cols if i not in bin_cols+exclude]\n",
    "   \n",
    "\n",
    "def fill_cat_cols(col_name,data_frame):\n",
    "    col_df=data_frame[col_name].value_counts().index\n",
    "    nans = data_frame[col_name].isna()\n",
    "    ##Key logic stats here\n",
    "    col_df=(data_frame[col_name].value_counts())\n",
    "    for x in col_df.index:\n",
    "        col_df[x]=(col_df[x]/data_frame.shape[0])*100\n",
    "    weights_g = col_df.values/100    \n",
    "    import random\n",
    "    ## use random.choices and give the respective distribution\n",
    "    replacement=random.choices(col_df.index,weights=weights_g, k=data_frame[col_name].isnull().sum())\n",
    "    ## use the above random values to keep in df again\n",
    "    data_frame.loc[nans,col_name] = replacement\n",
    "\n",
    "def fill_median_num_cols(col_name,data_frame):\n",
    "    data_frame[col_name].fillna(value=data_frame[col_name].median(),inplace=True)\n",
    "\n",
    "def drop_exclude_cols(col_name,data_frame):\n",
    "    data_frame.drop(col_name,axis=1,inplace=True)\n",
    "\n",
    "def change_cat_num_data(data_frame,is_test,is_cat,is_num):\n",
    "    if is_test == 'Y':\n",
    "        bin_cols.remove('Loan_Status')\n",
    "    #Label encoding Binary columns\n",
    "    if is_cat == 'Y':\n",
    "        le = LabelEncoder()\n",
    "        for i in bin_cols :\n",
    "#             print(i)\n",
    "            data_frame[i] = le.fit_transform(data_frame[i])\n",
    "        data_frame = pd.get_dummies(data = data_frame,columns = multi_cols )\n",
    "    if is_num == 'Y':\n",
    "        std = StandardScaler()\n",
    "        scaled = std.fit_transform(data_frame[num_cols])\n",
    "        scaled = pd.DataFrame(scaled,columns=num_cols,index=data_frame.index)\n",
    "        df_og = data_frame.copy()\n",
    "        data_frame = data_frame.drop(columns = num_cols,axis = 1)\n",
    "        data_frame = data_frame.merge(scaled,left_index=True,right_index=True,how = \"left\")\n",
    "    return data_frame"
   ]
  },
  {
   "cell_type": "code",
   "execution_count": 7,
   "metadata": {},
   "outputs": [],
   "source": [
    "for x in cat_cols:\n",
    "    fill_cat_cols(x,loans)\n",
    "for x in ['LoanAmount','Loan_Amount_Term']:\n",
    "    fill_median_num_cols(x,loans)\n",
    "for x in exclude:\n",
    "    drop_exclude_cols(x,loans)   \n",
    "loans=change_cat_num_data(loans,'N','Y','Y')    "
   ]
  },
  {
   "cell_type": "code",
   "execution_count": 8,
   "metadata": {},
   "outputs": [],
   "source": [
    "\n",
    "##seperating dependent and independent variables\n",
    "\n",
    "X = loans.drop('Loan_Status',axis=1)\n",
    "y = loans['Loan_Status']\n",
    "\n",
    "##Split the train and test with 30%ratio\n",
    "\n",
    "X_train,X_test,y_train,y_test = train_test_split(X,y, test_size=.3, random_state=111,stratify =y)\n",
    "\n"
   ]
  },
  {
   "cell_type": "code",
   "execution_count": 9,
   "metadata": {},
   "outputs": [
    {
     "name": "stdout",
     "output_type": "stream",
     "text": [
      "Train Accuracy score for k =1  is  1.000\n",
      "Test Accuracy score for k =1  is  0.719\n",
      "Train Accuracy score for k =3  is  0.855\n",
      "Test Accuracy score for k =3  is  0.724\n",
      "Train Accuracy score for k =5  is  0.811\n",
      "Test Accuracy score for k =5  is  0.708\n",
      "Train Accuracy score for k =7  is  0.767\n",
      "Test Accuracy score for k =7  is  0.714\n",
      "Train Accuracy score for k =9  is  0.767\n",
      "Test Accuracy score for k =9  is  0.730\n",
      "Train Accuracy score for k =11  is  0.760\n",
      "Test Accuracy score for k =11  is  0.724\n",
      "Train Accuracy score for k =13  is  0.746\n",
      "Test Accuracy score for k =13  is  0.735\n",
      "Train Accuracy score for k =15  is  0.748\n",
      "Test Accuracy score for k =15  is  0.724\n",
      "Train Accuracy score for k =17  is  0.737\n",
      "Test Accuracy score for k =17  is  0.724\n",
      "Train Accuracy score for k =19  is  0.730\n",
      "Test Accuracy score for k =19  is  0.719\n"
     ]
    }
   ],
   "source": [
    "def knn_classifier(k):\n",
    "    knn = KNeighborsClassifier(algorithm = 'auto', leaf_size = 30, metric_params = None, n_jobs = 1, n_neighbors = k, p = 2, weights = 'uniform')\n",
    "    knn.fit(X_train, y_train)\n",
    "    y_train_pred = knn.predict(X_train)\n",
    "    y_test_pred = knn.predict(X_test)\n",
    "    print('Train Accuracy score for k ={}  is  {:.3f}'.format(k, accuracy_score(y_train, y_train_pred)))\n",
    "    print('Test Accuracy score for k ={}  is  {:.3f}'.format(k, accuracy_score(y_test, y_test_pred)))\n",
    "for k in range(1, 20, 2):\n",
    "    knn_classifier(k)"
   ]
  },
  {
   "cell_type": "code",
   "execution_count": 10,
   "metadata": {},
   "outputs": [
    {
     "name": "stdout",
     "output_type": "stream",
     "text": [
      "Train Accuracy score for k =5  is  0.811\n",
      "Test Accuracy score for k =5  is  0.708\n"
     ]
    }
   ],
   "source": [
    "knn = KNeighborsClassifier(algorithm = 'auto', leaf_size = 30, metric = 'minkowski', metric_params = None, n_jobs = 1, n_neighbors = 5, p = 2, weights = 'uniform')\n",
    "knn.fit(X_train, y_train)\n",
    "y_train_pred = knn.predict(X_train)\n",
    "y_test_pred = knn.predict(X_test)\n",
    "print('Train Accuracy score for k ={}  is  {:.3f}'.format(5, accuracy_score(y_train, y_train_pred)))\n",
    "print('Test Accuracy score for k ={}  is  {:.3f}'.format(5, accuracy_score(y_test, y_test_pred)))"
   ]
  },
  {
   "cell_type": "code",
   "execution_count": 11,
   "metadata": {},
   "outputs": [
    {
     "name": "stdout",
     "output_type": "stream",
     "text": [
      "Train Accuracy score LogisticRegression  is  0.818\n",
      "Test Accuracy scoreLogisticRegression is  0.773\n"
     ]
    }
   ],
   "source": [
    "## Logistic regression\n",
    "\n",
    "log_reg = LogisticRegression(random_state=1,solver='liblinear')\n",
    "log_reg.fit(X_train, y_train)\n",
    "y_train_pred = log_reg.predict(X_train)\n",
    "y_test_pred = log_reg.predict(X_test)\n",
    "print('Train Accuracy score LogisticRegression  is  {:.3f}'.format( accuracy_score(y_train, y_train_pred)))\n",
    "print('Test Accuracy scoreLogisticRegression is  {:.3f}'.format( accuracy_score(y_test, y_test_pred)))"
   ]
  },
  {
   "cell_type": "code",
   "execution_count": 12,
   "metadata": {},
   "outputs": [
    {
     "name": "stdout",
     "output_type": "stream",
     "text": [
      "Train Accuracy score GaussianNB  is  0.804\n",
      "Test Accuracy GaussianNB is  0.757\n"
     ]
    }
   ],
   "source": [
    "#GaussianNB\n",
    "gb = GaussianNB()\n",
    "gb.fit(X_train, y_train)\n",
    "y_train_pred = gb.predict(X_train)\n",
    "y_test_pred = gb.predict(X_test)\n",
    "print('Train Accuracy score GaussianNB  is  {:.3f}'.format( accuracy_score(y_train, y_train_pred)))\n",
    "print('Test Accuracy GaussianNB is  {:.3f}'.format( accuracy_score(y_test, y_test_pred)))"
   ]
  },
  {
   "cell_type": "code",
   "execution_count": 13,
   "metadata": {},
   "outputs": [
    {
     "name": "stdout",
     "output_type": "stream",
     "text": [
      "Train Accuracy score DecisionTreeClassifier  is  0.823\n",
      "Test Accuracy DecisionTreeClassifier is  0.773\n"
     ]
    }
   ],
   "source": [
    "\n",
    "#DecisionTreeClassifier\n",
    "dtc = DecisionTreeClassifier(max_depth=3,min_samples_leaf=3)\n",
    "dtc.fit(X_train, y_train)\n",
    "y_train_pred = dtc.predict(X_train)\n",
    "y_test_pred = dtc.predict(X_test)\n",
    "print('Train Accuracy score DecisionTreeClassifier  is  {:.3f}'.format( accuracy_score(y_train, y_train_pred)))\n",
    "print('Test Accuracy DecisionTreeClassifier is  {:.3f}'.format( accuracy_score(y_test, y_test_pred)))"
   ]
  },
  {
   "cell_type": "code",
   "execution_count": 14,
   "metadata": {},
   "outputs": [
    {
     "name": "stdout",
     "output_type": "stream",
     "text": [
      "Train Accuracy score RadiusNeighborsClassifier  is  0.800\n",
      "Test Accuracy RadiusNeighborsClassifier is  0.697\n"
     ]
    }
   ],
   "source": [
    "#RadiusNeighborsClassifier\n",
    "\n",
    "rnc = RadiusNeighborsClassifier(radius=1.678,outlier_label =0)\n",
    "rnc.fit(X_train, y_train)\n",
    "y_train_pred = rnc.predict(X_train)\n",
    "y_test_pred = rnc.predict(X_test)\n",
    "print('Train Accuracy score RadiusNeighborsClassifier  is  {:.3f}'.format( accuracy_score(y_train, y_train_pred)))\n",
    "print('Test Accuracy RadiusNeighborsClassifier is  {:.3f}'.format( accuracy_score(y_test, y_test_pred)))"
   ]
  },
  {
   "cell_type": "code",
   "execution_count": 15,
   "metadata": {},
   "outputs": [
    {
     "name": "stdout",
     "output_type": "stream",
     "text": [
      "Train Accuracy score  is  0.814\n",
      "Test Accuracy   is  0.762\n"
     ]
    }
   ],
   "source": [
    "#BaggingClassifier\n",
    "k_bgc = BaggingClassifier(base_estimator=KNeighborsClassifier(n_neighbors=5),n_estimators=100,max_samples=.7,max_features=.6,random_state=1)\n",
    "k_bgc.fit(X_train,y_train)\n",
    "y_train_pred = k_bgc.predict(X_train)\n",
    "y_test_pred = k_bgc.predict(X_test)\n",
    "print('Train Accuracy score  is  {:.3f}'.format( accuracy_score(y_train, y_train_pred)))\n",
    "print('Test Accuracy   is  {:.3f}'.format( accuracy_score(y_test, y_test_pred)))"
   ]
  },
  {
   "cell_type": "code",
   "execution_count": 16,
   "metadata": {},
   "outputs": [
    {
     "name": "stdout",
     "output_type": "stream",
     "text": [
      "Train Accuracy score   is  0.811\n",
      "Test Accuracy score  is  0.784\n"
     ]
    }
   ],
   "source": [
    "lr_bgc = BaggingClassifier(base_estimator=log_reg,max_features=.6,n_estimators=100,max_samples=.7,random_state=1)\n",
    "lr_bgc.fit(X_train,y_train)\n",
    "y_train_pred = lr_bgc.predict(X_train)\n",
    "y_test_pred = lr_bgc.predict(X_test)\n",
    "print('Train Accuracy score   is  {:.3f}'.format( accuracy_score(y_train, y_train_pred)))\n",
    "print('Test Accuracy score  is  {:.3f}'.format( accuracy_score(y_test, y_test_pred)))"
   ]
  },
  {
   "cell_type": "code",
   "execution_count": 17,
   "metadata": {},
   "outputs": [
    {
     "name": "stdout",
     "output_type": "stream",
     "text": [
      "Train Accuracy score   is  0.818\n",
      "Test Accuracy score  is  0.773\n"
     ]
    }
   ],
   "source": [
    "gb_bgc = BaggingClassifier(base_estimator=gb,max_features=.6,n_estimators=35,max_samples=.7,random_state=1)\n",
    "gb_bgc.fit(X_train,y_train)\n",
    "y_train_pred = gb_bgc.predict(X_train)\n",
    "y_test_pred = gb_bgc.predict(X_test)\n",
    "print('Train Accuracy score   is  {:.3f}'.format( accuracy_score(y_train, y_train_pred)))\n",
    "print('Test Accuracy score  is  {:.3f}'.format( accuracy_score(y_test, y_test_pred)))"
   ]
  },
  {
   "cell_type": "code",
   "execution_count": 18,
   "metadata": {},
   "outputs": [
    {
     "name": "stdout",
     "output_type": "stream",
     "text": [
      "Train Accuracy score   is  0.821\n",
      "Test Accuracy score  is  0.784\n"
     ]
    }
   ],
   "source": [
    "dt_bgc = BaggingClassifier(base_estimator=DecisionTreeClassifier(max_depth=5),max_features=.6,n_estimators=35,max_samples=.7,random_state=1)\n",
    "dt_bgc.fit(X_train,y_train)\n",
    "y_train_pred = dt_bgc.predict(X_train)\n",
    "y_test_pred = dt_bgc.predict(X_test)\n",
    "print('Train Accuracy score   is  {:.3f}'.format( accuracy_score(y_train, y_train_pred)))\n",
    "print('Test Accuracy score  is  {:.3f}'.format( accuracy_score(y_test, y_test_pred)))"
   ]
  },
  {
   "cell_type": "code",
   "execution_count": 19,
   "metadata": {},
   "outputs": [
    {
     "name": "stdout",
     "output_type": "stream",
     "text": [
      "Train Accuracy score   is  0.818\n",
      "Test Accuracy score  is  0.778\n"
     ]
    }
   ],
   "source": [
    "lr_abc = AdaBoostClassifier(base_estimator=LogisticRegression(random_state=1,solver='liblinear'),random_state=1,learning_rate=1,n_estimators=50)\n",
    "lr_abc.fit(X_train,y_train)\n",
    "y_train_pred = lr_abc.predict(X_train)\n",
    "y_test_pred = lr_abc.predict(X_test)\n",
    "print('Train Accuracy score   is  {:.3f}'.format( accuracy_score(y_train, y_train_pred)))\n",
    "print('Test Accuracy score  is  {:.3f}'.format( accuracy_score(y_test, y_test_pred)))"
   ]
  },
  {
   "cell_type": "code",
   "execution_count": 20,
   "metadata": {},
   "outputs": [
    {
     "name": "stdout",
     "output_type": "stream",
     "text": [
      "Train Accuracy score  is  0.641\n",
      "Test Accuracy score is  0.670\n"
     ]
    }
   ],
   "source": [
    "gb_abc = AdaBoostClassifier(base_estimator=GaussianNB(),random_state=1,learning_rate=.5,n_estimators=75)\n",
    "gb_abc.fit(X_train,y_train)\n",
    "y_train_pred = gb_abc.predict(X_train)\n",
    "y_test_pred = gb_abc.predict(X_test)\n",
    "print('Train Accuracy score  is  {:.3f}'.format( accuracy_score(y_train, y_train_pred)))\n",
    "print('Test Accuracy score is  {:.3f}'.format( accuracy_score(y_test, y_test_pred)))"
   ]
  },
  {
   "cell_type": "code",
   "execution_count": 21,
   "metadata": {},
   "outputs": [
    {
     "name": "stdout",
     "output_type": "stream",
     "text": [
      "Train Accuracy score   is  1.000\n",
      "Test Accuracy score  is  0.741\n"
     ]
    }
   ],
   "source": [
    "dtc_abc = AdaBoostClassifier(base_estimator=DecisionTreeClassifier(max_depth=5),random_state=1,learning_rate=.7,n_estimators=100)\n",
    "dtc_abc.fit(X_train,y_train)\n",
    "y_train_pred = dtc_abc.predict(X_train)\n",
    "y_test_pred = dtc_abc.predict(X_test)\n",
    "print('Train Accuracy score   is  {:.3f}'.format( accuracy_score(y_train, y_train_pred)))\n",
    "print('Test Accuracy score  is  {:.3f}'.format( accuracy_score(y_test, y_test_pred)))"
   ]
  },
  {
   "cell_type": "code",
   "execution_count": 22,
   "metadata": {},
   "outputs": [
    {
     "name": "stdout",
     "output_type": "stream",
     "text": [
      "Train Accuracy score   is  0.839\n",
      "Test Accuracy score  is  0.784\n"
     ]
    }
   ],
   "source": [
    "abc = AdaBoostClassifier(random_state=1,learning_rate=.5,n_estimators=75)\n",
    "abc.fit(X_train,y_train)\n",
    "y_train_pred = abc.predict(X_train)\n",
    "y_test_pred = abc.predict(X_test)\n",
    "print('Train Accuracy score   is  {:.3f}'.format( accuracy_score(y_train, y_train_pred)))\n",
    "print('Test Accuracy score  is  {:.3f}'.format( accuracy_score(y_test, y_test_pred)))"
   ]
  },
  {
   "cell_type": "code",
   "execution_count": 23,
   "metadata": {},
   "outputs": [
    {
     "name": "stdout",
     "output_type": "stream",
     "text": [
      "Train Accuracy score    is  1.000\n",
      "Test Accuracy score  is  0.719\n"
     ]
    }
   ],
   "source": [
    "\n",
    "gbc = GradientBoostingClassifier(learning_rate=1,n_estimators=100,random_state=50, min_samples_leaf=9)\n",
    "gbc.fit(X_train,y_train)\n",
    "y_train_pred = gbc.predict(X_train)\n",
    "y_test_pred = gbc.predict(X_test)\n",
    "print('Train Accuracy score    is  {:.3f}'.format( accuracy_score(y_train, y_train_pred)))\n",
    "print('Test Accuracy score  is  {:.3f}'.format( accuracy_score(y_test, y_test_pred)))"
   ]
  },
  {
   "cell_type": "code",
   "execution_count": 24,
   "metadata": {},
   "outputs": [
    {
     "name": "stdout",
     "output_type": "stream",
     "text": [
      "Train Accuracy score    is  0.793\n",
      "Test Accuracy score is  0.778\n"
     ]
    }
   ],
   "source": [
    "\n",
    "rc = RandomForestClassifier(n_estimators =20,random_state=1,max_depth=3, min_samples_leaf=9)\n",
    "rc.fit(X_train,y_train)\n",
    "y_train_pred = rc.predict(X_train)\n",
    "y_test_pred = rc.predict(X_test)\n",
    "print('Train Accuracy score    is  {:.3f}'.format( accuracy_score(y_train, y_train_pred)))\n",
    "print('Test Accuracy score is  {:.3f}'.format( accuracy_score(y_test, y_test_pred)))"
   ]
  },
  {
   "cell_type": "code",
   "execution_count": 25,
   "metadata": {},
   "outputs": [
    {
     "name": "stdout",
     "output_type": "stream",
     "text": [
      "Train Accuracy score is  0.818\n",
      "Test Accuracy score is  0.751\n"
     ]
    }
   ],
   "source": [
    "\n",
    "brf = BalancedRandomForestClassifier(max_depth=3,n_estimators=50, random_state=0)\n",
    "brf.fit(X_train,y_train)\n",
    "y_train_pred = brf.predict(X_train)\n",
    "y_test_pred = brf.predict(X_test)\n",
    "print('Train Accuracy score is  {:.3f}'.format( accuracy_score(y_train, y_train_pred)))\n",
    "print('Test Accuracy score is  {:.3f}'.format( accuracy_score(y_test, y_test_pred)))"
   ]
  },
  {
   "cell_type": "code",
   "execution_count": 26,
   "metadata": {},
   "outputs": [
    {
     "name": "stdout",
     "output_type": "stream",
     "text": [
      "Train Accuracy score is  0.790\n",
      "Test Accuracy score is  0.751\n"
     ]
    }
   ],
   "source": [
    "\n",
    "bbc_lr = BalancedBaggingClassifier(base_estimator=log_reg, random_state=0)\n",
    "bbc_lr.fit(X_train,y_train)\n",
    "y_train_pred = bbc_lr.predict(X_train)\n",
    "y_test_pred = bbc_lr.predict(X_test)\n",
    "print('Train Accuracy score is  {:.3f}'.format( accuracy_score(y_train, y_train_pred)))\n",
    "print('Test Accuracy score is  {:.3f}'.format( accuracy_score(y_test, y_test_pred)))"
   ]
  },
  {
   "cell_type": "code",
   "execution_count": 27,
   "metadata": {},
   "outputs": [
    {
     "name": "stdout",
     "output_type": "stream",
     "text": [
      "Train Accuracy score is  0.765\n",
      "Test Accuracy score is  0.703\n"
     ]
    }
   ],
   "source": [
    "\n",
    "bbc_k = BalancedBaggingClassifier(base_estimator=knn, random_state=0)\n",
    "bbc_k.fit(X_train,y_train)\n",
    "y_train_pred = bbc_k.predict(X_train)\n",
    "y_test_pred = bbc_k.predict(X_test)\n",
    "print('Train Accuracy score is  {:.3f}'.format( accuracy_score(y_train, y_train_pred)))\n",
    "print('Test Accuracy score is  {:.3f}'.format( accuracy_score(y_test, y_test_pred)))"
   ]
  },
  {
   "cell_type": "code",
   "execution_count": 28,
   "metadata": {},
   "outputs": [
    {
     "name": "stdout",
     "output_type": "stream",
     "text": [
      "Train Accuracy score is  0.795\n",
      "Test Accuracy score is  0.751\n"
     ]
    }
   ],
   "source": [
    "\n",
    "bbc_gb = BalancedBaggingClassifier(base_estimator=gb, random_state=0)\n",
    "bbc_gb.fit(X_train,y_train)\n",
    "y_train_pred = bbc_gb.predict(X_train)\n",
    "y_test_pred = bbc_gb.predict(X_test)\n",
    "print('Train Accuracy score is  {:.3f}'.format( accuracy_score(y_train, y_train_pred)))\n",
    "print('Test Accuracy score is  {:.3f}'.format( accuracy_score(y_test, y_test_pred)))"
   ]
  },
  {
   "cell_type": "code",
   "execution_count": 29,
   "metadata": {},
   "outputs": [
    {
     "name": "stdout",
     "output_type": "stream",
     "text": [
      "Train Accuracy score is  0.814\n",
      "Test Accuracy score is  0.768\n"
     ]
    }
   ],
   "source": [
    "\n",
    "bbc_dt = BalancedBaggingClassifier(base_estimator=dtc, random_state=0)\n",
    "bbc_dt.fit(X_train,y_train)\n",
    "y_train_pred = bbc_dt.predict(X_train)\n",
    "y_test_pred = bbc_dt.predict(X_test)\n",
    "print('Train Accuracy score is  {:.3f}'.format( accuracy_score(y_train, y_train_pred)))\n",
    "print('Test Accuracy score is  {:.3f}'.format( accuracy_score(y_test, y_test_pred)))"
   ]
  },
  {
   "cell_type": "code",
   "execution_count": 30,
   "metadata": {},
   "outputs": [
    {
     "name": "stdout",
     "output_type": "stream",
     "text": [
      "Train Accuracy score is  0.755\n",
      "Test Accuracy score is  0.681\n"
     ]
    }
   ],
   "source": [
    "\n",
    "bbc_R = BalancedBaggingClassifier(base_estimator=rnc, random_state=0)\n",
    "bbc_R.fit(X_train,y_train)\n",
    "y_train_pred = bbc_R.predict(X_train)\n",
    "y_test_pred = bbc_R.predict(X_test)\n",
    "print('Train Accuracy score is  {:.3f}'.format( accuracy_score(y_train, y_train_pred)))\n",
    "print('Test Accuracy score is  {:.3f}'.format( accuracy_score(y_test, y_test_pred)))"
   ]
  },
  {
   "cell_type": "code",
   "execution_count": null,
   "metadata": {},
   "outputs": [],
   "source": []
  },
  {
   "cell_type": "code",
   "execution_count": 31,
   "metadata": {},
   "outputs": [],
   "source": [
    "def get_vc_estimators(n):\n",
    "    est = []\n",
    "    vc_df=model_performances.sort_values('Test_Accuracy_score',ascending=False).head(n)['Model_Name']\n",
    "    for x in vc_df.values:\n",
    "        tup=(x,x)\n",
    "        est.append(tup)\n",
    "    print(est)\n",
    "# get_vc_estimators(10)    "
   ]
  },
  {
   "cell_type": "code",
   "execution_count": 32,
   "metadata": {},
   "outputs": [
    {
     "name": "stdout",
     "output_type": "stream",
     "text": [
      "Train Accuracy score is  0.816\n",
      "Test Accuracy score is  0.784\n"
     ]
    }
   ],
   "source": [
    "vc = VotingClassifier(\n",
    "    estimators=[\n",
    "        ('abc', abc), ('brf', brf), ('dtc', dtc),\n",
    "                ('lr_bgc', lr_bgc), ('gb_bgc', gb_bgc),\n",
    "        ('dt_bgc', dt_bgc), ('lr_abc', lr_abc), ('log_reg', log_reg), \n",
    "                ('rc', rc)\n",
    "               ]\n",
    "    ,voting='soft')\n",
    "vc.fit(X_train,y_train)\n",
    "y_train_pred = vc.predict(X_train)\n",
    "y_test_pred = vc.predict(X_test)\n",
    "print('Train Accuracy score is  {:.3f}'.format( accuracy_score(y_train, y_train_pred)))\n",
    "print('Test Accuracy score is  {:.3f}'.format( accuracy_score(y_test, y_test_pred)))"
   ]
  },
  {
   "cell_type": "code",
   "execution_count": 33,
   "metadata": {},
   "outputs": [],
   "source": [
    "def model_report(\n",
    "    m_type,\n",
    "    model,\n",
    "    model_name,\n",
    "    actual_name\n",
    "    ):\n",
    "    model.fit(X_train, y_train)\n",
    "    y_train_pred = model.predict(X_train)\n",
    "    y_test_pred = model.predict(X_test)\n",
    "    df = pd.DataFrame({\n",
    "        'Model_Type': [m_type],\n",
    "        'Model_Name': [model_name],\n",
    "        'Model_act_name':[actual_name],\n",
    "        'Train_Accuracy_score': [accuracy_score(y_train, y_train_pred)],\n",
    "        'Test_Accuracy_score': [ accuracy_score(y_test, y_test_pred)],\n",
    "        })    \n",
    "    return df\n",
    "model1=model_report('Base',knn,'knn','KNN-5')\n",
    "model2=model_report('Base',log_reg,'log_reg','Logis Reg')\n",
    "model3=model_report('Base',dtc,'dtc','Dec Tree')\n",
    "model4=model_report('Base',gb,'gb','GB')\n",
    "model5=model_report('Base',rnc,'rnc','RNC')\n",
    "\n",
    "model6=model_report('Bagging',k_bgc,'k_bgc','BGC-KNN-5')\n",
    "model7=model_report('Bagging',lr_bgc,'lr_bgc','BGC-LR')\n",
    "model8=model_report('Bagging',gb_bgc,'gb_bgc','BGC-GB')\n",
    "model9=model_report('Bagging',dt_bgc,'dt_bgc','BGC-DT')\n",
    "\n",
    "model10=model_report('Boosting',lr_abc,'lr_abc','ABC-LR')\n",
    "model11=model_report('Boosting',gb_abc,'gb_abc','ABC-GB')\n",
    "model12=model_report('Boosting',dtc_abc,'dtc_abc','ABC-DT')\n",
    "model13=model_report('Boosting',abc,'abc','ABC-Def')\n",
    "\n",
    "model14=model_report('Random Forest',rc,'rc','RFC')\n",
    "model15=model_report('Gradient Boost',gbc,'gbc','GBC')\n",
    "\n",
    "model16=model_report('Balance',brf,'brf','BAL-RF')\n",
    "model17=model_report('Balance',bbc_lr,'bbc_lr','BAL-LR')\n",
    "model18=model_report('Balance',bbc_k,'bbc_k','BAL-KNN-5')\n",
    "model19=model_report('Balance',bbc_dt,'bbc_dt','BAL-DT')\n",
    "model20=model_report('Balance',bbc_gb,'bbc_gb','BAL-GB')\n",
    "model21=model_report('Balance',bbc_R,'bbc_R','BAL-Rad-C')\n",
    "\n",
    "model22=model_report('Voting',vc,'vc','Voting Classifier')\n",
    "\n",
    "\n",
    "#concat all models\n",
    "model_performances = pd.concat([model1,model2,model3,\n",
    "                                model4,model5,model6,\n",
    "                                model7,model8,model9,\n",
    "                                model10,model11,model12,\n",
    "                                model13,model14,model15,\n",
    "                                model16,model17,model18,\n",
    "                                model19,model20,model21,model22\n",
    "                               ],axis = 0).reset_index()\n",
    "\n",
    "model_performances = model_performances.drop(columns = \"index\",axis =1)\n"
   ]
  },
  {
   "cell_type": "code",
   "execution_count": 34,
   "metadata": {},
   "outputs": [
    {
     "name": "stdout",
     "output_type": "stream",
     "text": [
      "Train Accuracy score is  0.818\n",
      "Test Accuracy score is  0.778\n"
     ]
    },
    {
     "name": "stderr",
     "output_type": "stream",
     "text": [
      "C:\\ProgramData\\Anaconda3\\lib\\site-packages\\xgboost\\core.py:587: FutureWarning:\n",
      "\n",
      "Series.base is deprecated and will be removed in a future version\n",
      "\n"
     ]
    }
   ],
   "source": [
    "D_train = xgb.DMatrix(X_train, label=y_train)\n",
    "D_test = xgb.DMatrix(X_test, label=y_test)\n",
    "param = {\n",
    "    'eta': 0.1,\n",
    "    'max_depth': 3,\n",
    "    'objective': 'multi:softprob',\n",
    "    'num_class': 3,\n",
    "    }\n",
    "steps = 10  # The number of training iterations\n",
    "xgb_b = xgb.train(param, D_train, steps)\n",
    "preds = xgb_b.predict(D_test)\n",
    "preds_train = xgb_b.predict(D_train)\n",
    "best_preds_train = np.asarray([np.argmax(line) for line in preds_train])\n",
    "best_preds_test = np.asarray([np.argmax(line) for line in preds])\n",
    "print ('Train Accuracy score is  {:.3f}'.format(accuracy_score(y_train,best_preds_train)))\n",
    "print ('Test Accuracy score is  {:.3f}'.format(accuracy_score(y_test,best_preds_test)))\n",
    "model_performances=model_performances.append(pd.DataFrame({\n",
    "    'Model_Type': ['XG Boost Basic'],\n",
    "    'Model_Name': ['xgb_b'],\n",
    "    'Model_act_name': ['xgb_b'],\n",
    "    'Train_Accuracy_score': [accuracy_score(y_train,\n",
    "                             best_preds_train)],\n",
    "    'Test_Accuracy_score': [accuracy_score(y_test, best_preds_test)],\n",
    "    }), ignore_index=True)\n"
   ]
  },
  {
   "cell_type": "code",
   "execution_count": 35,
   "metadata": {},
   "outputs": [
    {
     "name": "stdout",
     "output_type": "stream",
     "text": [
      "0:\tlearn: 0.8088578\ttest: 0.7837838\tbest: 0.7837838 (0)\ttotal: 50.4ms\tremaining: 454ms\n",
      "1:\tlearn: 0.8065268\ttest: 0.7783784\tbest: 0.7837838 (0)\ttotal: 51.7ms\tremaining: 207ms\n",
      "2:\tlearn: 0.8088578\ttest: 0.7837838\tbest: 0.7837838 (0)\ttotal: 53.1ms\tremaining: 124ms\n",
      "3:\tlearn: 0.8088578\ttest: 0.7837838\tbest: 0.7837838 (0)\ttotal: 54.4ms\tremaining: 81.6ms\n",
      "4:\tlearn: 0.8088578\ttest: 0.7837838\tbest: 0.7837838 (0)\ttotal: 55.9ms\tremaining: 55.9ms\n",
      "5:\tlearn: 0.8111888\ttest: 0.7837838\tbest: 0.7837838 (0)\ttotal: 57.3ms\tremaining: 38.2ms\n",
      "6:\tlearn: 0.8111888\ttest: 0.7837838\tbest: 0.7837838 (0)\ttotal: 58.6ms\tremaining: 25.1ms\n",
      "7:\tlearn: 0.8111888\ttest: 0.7837838\tbest: 0.7837838 (0)\ttotal: 60ms\tremaining: 15ms\n",
      "8:\tlearn: 0.8158508\ttest: 0.7837838\tbest: 0.7837838 (0)\ttotal: 61.4ms\tremaining: 6.82ms\n",
      "9:\tlearn: 0.8158508\ttest: 0.7837838\tbest: 0.7837838 (0)\ttotal: 62.7ms\tremaining: 0us\n",
      "\n",
      "bestTest = 0.7837837838\n",
      "bestIteration = 0\n",
      "\n",
      "Shrink model to first 1 iterations.\n",
      "Train Accuracy score is  0.809\n",
      "Test Accuracy score is  0.784\n"
     ]
    }
   ],
   "source": [
    "cat = CatBoostClassifier(\n",
    "    iterations=10,\n",
    "    learning_rate=.5,\n",
    "    depth=5,\n",
    "    eval_metric='Accuracy',\n",
    "    use_best_model=True,\n",
    "    random_seed=42,\n",
    "    loss_function=None,\n",
    "    )\n",
    "\n",
    "# Fit model\n",
    "\n",
    "cat_b = cat.fit(X_train, y_train, eval_set=(X_test, y_test))\n",
    "y_train_pred = cat_b.predict(X_train)\n",
    "y_test_pred = cat_b.predict(X_test)\n",
    "print ('Train Accuracy score is  {:.3f}'.format(accuracy_score(y_train,\n",
    "        y_train_pred)))\n",
    "print ('Test Accuracy score is  {:.3f}'.format(accuracy_score(y_test,\n",
    "        y_test_pred)))\n",
    "model_performances = model_performances.append(pd.DataFrame({\n",
    "    'Model_Type': ['CAT Boost Basic'],\n",
    "    'Model_Name': ['cat_b'],\n",
    "    'Model_act_name': ['cat_b'],\n",
    "    'Train_Accuracy_score': [accuracy_score(y_train, y_train_pred)],\n",
    "    'Test_Accuracy_score': [accuracy_score(y_test, y_test_pred)],\n",
    "    }), ignore_index=True)"
   ]
  },
  {
   "cell_type": "code",
   "execution_count": 36,
   "metadata": {},
   "outputs": [
    {
     "name": "stdout",
     "output_type": "stream",
     "text": [
      "Train Accuracy score is  0.911\n",
      "Test Accuracy score is  0.784\n"
     ]
    }
   ],
   "source": [
    "lgm_b = lgbm.LGBMClassifier(n_estimators=50,random_state=100)\n",
    "lgm_b.fit(X_train, y_train)\n",
    "y_test_pred = lgm_b.predict(X_test)\n",
    "y_train_pred = lgm_b.predict(X_train)\n",
    "print('Train Accuracy score is  {:.3f}'.format( accuracy_score(y_train, y_train_pred)))\n",
    "print('Test Accuracy score is  {:.3f}'.format( accuracy_score(y_test, y_test_pred)))\n",
    "model_performances=model_performances.append(pd.DataFrame({\n",
    "    'Model_Type': ['LGBM Basic'],\n",
    "    'Model_Name': ['lgm_b'],\n",
    "    'Model_act_name': ['lgm_b'],\n",
    "    'Train_Accuracy_score': [accuracy_score(y_train,\n",
    "                             y_train_pred)],\n",
    "    'Test_Accuracy_score': [accuracy_score(y_test, y_test_pred)],\n",
    "    }), ignore_index=True)"
   ]
  },
  {
   "cell_type": "code",
   "execution_count": 37,
   "metadata": {},
   "outputs": [],
   "source": [
    "# Work with missing values "
   ]
  },
  {
   "cell_type": "code",
   "execution_count": 38,
   "metadata": {},
   "outputs": [
    {
     "name": "stdout",
     "output_type": "stream",
     "text": [
      "Train Accuracy score is  0.832\n",
      "Test Accuracy score is  0.778\n"
     ]
    },
    {
     "name": "stderr",
     "output_type": "stream",
     "text": [
      "C:\\ProgramData\\Anaconda3\\lib\\site-packages\\xgboost\\core.py:587: FutureWarning:\n",
      "\n",
      "Series.base is deprecated and will be removed in a future version\n",
      "\n"
     ]
    }
   ],
   "source": [
    "df_XGB= train.copy()\n",
    "df_XGB['total_income']=df_XGB['ApplicantIncome']+df_XGB['CoapplicantIncome']\n",
    "for x in cat_cols:\n",
    "    fill_cat_cols(x,df_XGB)\n",
    "for x in exclude:\n",
    "    drop_exclude_cols(x,df_XGB)\n",
    "df_XGB=change_cat_num_data(df_XGB,'N','Y','N')     \n",
    "\n",
    "##seperating dependent and independent variables\n",
    "\n",
    "X = df_XGB.drop('Loan_Status',axis=1)\n",
    "y = df_XGB['Loan_Status']\n",
    "\n",
    "##Split the train and test with 30%ratio\n",
    "\n",
    "X_train,X_test,y_train,y_test = train_test_split(X,y, test_size=.3, random_state=111,stratify =y)\n",
    "\n",
    "D_train = xgb.DMatrix(X_train, label=y_train)\n",
    "D_test = xgb.DMatrix(X_test, label=y_test)\n",
    "param = {\n",
    "    'eta': 0.1,\n",
    "    'max_depth': 3,\n",
    "    'objective': 'multi:softprob',\n",
    "    'num_class': 3,\n",
    "    }\n",
    "steps = 10  # The number of training iterations\n",
    "xgb_n = xgb.train(param, D_train, steps)\n",
    "preds = xgb_n.predict(D_test)\n",
    "preds_train = xgb_n.predict(D_train)\n",
    "best_preds_train = np.asarray([np.argmax(line) for line in preds_train])\n",
    "best_preds_test = np.asarray([np.argmax(line) for line in preds])\n",
    "print ('Train Accuracy score is  {:.3f}'.format(accuracy_score(y_train,best_preds_train)))\n",
    "print ('Test Accuracy score is  {:.3f}'.format(accuracy_score(y_test,best_preds_test)))\n",
    "model_performances=model_performances.append(pd.DataFrame({\n",
    "    'Model_Type': ['XGBoost Adv'],\n",
    "    'Model_Name': ['xgb_n'],\n",
    "    'Model_act_name': ['adv'],\n",
    "    'Train_Accuracy_score': [accuracy_score(y_train,\n",
    "                             best_preds_train)],\n",
    "    'Test_Accuracy_score': [accuracy_score(y_test, best_preds_test)],\n",
    "    }), ignore_index=True)\n"
   ]
  },
  {
   "cell_type": "code",
   "execution_count": 39,
   "metadata": {},
   "outputs": [
    {
     "name": "stderr",
     "output_type": "stream",
     "text": [
      "C:\\ProgramData\\Anaconda3\\lib\\site-packages\\lightgbm\\basic.py:1295: UserWarning:\n",
      "\n",
      "categorical_feature in Dataset is overridden.\n",
      "New categorical_feature is ['Credit_History', 'Dependents', 'Education', 'Gender', 'Married', 'Property_Area', 'Self_Employed']\n",
      "\n"
     ]
    },
    {
     "name": "stdout",
     "output_type": "stream",
     "text": [
      "Train Accuracy score is  0.916\n",
      "Test Accuracy score is  0.768\n"
     ]
    }
   ],
   "source": [
    "df_LGM= train.copy()\n",
    "# df_LGM['total_income']=df_LGM['ApplicantIncome']+df_LGM['CoapplicantIncome']\n",
    "# for x in exclude:\n",
    "#     drop_exclude_cols(x,df_LGM)\n",
    "df_LGM=change_cat_num_data(df_LGM,'N','N','N')  \n",
    "\n",
    "##seperating dependent and independent variables\n",
    "for x in cat_cols:\n",
    "    df_LGM[x]=df_LGM[x].astype('category')\n",
    "\n",
    "\n",
    "X = df_LGM.drop('Loan_Status',axis=1)\n",
    "y = df_LGM['Loan_Status']\n",
    "\n",
    "##Split the train and test with 30%ratio\n",
    "\n",
    "X_train,X_test,y_train,y_test = train_test_split(X,y, test_size=.3, random_state=111,stratify =y)\n",
    "\n",
    "lgm_c = lgbm.LGBMClassifier(n_estimators=100,random_state=100,max_depth=3,learning_rate=.2,num_leaves=10,importance_type='gain')\n",
    "lgm_c.fit(X_train, y_train,categorical_feature=cat_cols)\n",
    "y_test_pred = lgm_c.predict(X_test)\n",
    "y_train_pred = lgm_c.predict(X_train)\n",
    "print('Train Accuracy score is  {:.3f}'.format( accuracy_score(y_train, y_train_pred)))\n",
    "print('Test Accuracy score is  {:.3f}'.format( accuracy_score(y_test, y_test_pred)))\n",
    "model_performances=model_performances.append(pd.DataFrame({\n",
    "    'Model_Type': ['LGBM Cat Cols'],\n",
    "    'Model_Name': ['lgm_c'],\n",
    "    'Model_act_name': ['adv'],\n",
    "    'Train_Accuracy_score': [accuracy_score(y_train,\n",
    "                             y_train_pred)],\n",
    "    'Test_Accuracy_score': [accuracy_score(y_test, y_test_pred)],\n",
    "    }), ignore_index=True)\n"
   ]
  },
  {
   "cell_type": "code",
   "execution_count": 40,
   "metadata": {},
   "outputs": [
    {
     "name": "stdout",
     "output_type": "stream",
     "text": [
      "0:\tlearn: 0.5600540\ttotal: 6.27ms\tremaining: 56.4ms\n",
      "1:\tlearn: 0.5103437\ttotal: 11.2ms\tremaining: 44.7ms\n",
      "2:\tlearn: 0.4783134\ttotal: 16.8ms\tremaining: 39.1ms\n",
      "3:\tlearn: 0.4625717\ttotal: 18.7ms\tremaining: 28.1ms\n",
      "4:\tlearn: 0.4537860\ttotal: 22.6ms\tremaining: 22.6ms\n",
      "5:\tlearn: 0.4461819\ttotal: 26ms\tremaining: 17.3ms\n",
      "6:\tlearn: 0.4390112\ttotal: 30.1ms\tremaining: 12.9ms\n",
      "7:\tlearn: 0.4309206\ttotal: 33ms\tremaining: 8.25ms\n",
      "8:\tlearn: 0.4244451\ttotal: 36.5ms\tremaining: 4.05ms\n",
      "9:\tlearn: 0.4211213\ttotal: 39.3ms\tremaining: 0us\n",
      "Train Accuracy score is  0.825\n",
      "Test Accuracy score is  0.789\n"
     ]
    }
   ],
   "source": [
    "df_cat= train.copy()\n",
    "\n",
    "df_cat=change_cat_num_data(df_cat,'N','N','N')  \n",
    "\n",
    "df_cat['Credit_History']=df_cat['Credit_History'].fillna(30)\n",
    "df_cat['Credit_History']=df_cat['Credit_History'].astype('int')\n",
    "df_cat['Credit_History']=df_cat['Credit_History'].astype('str')\n",
    "df_cat['Credit_History']=df_cat['Credit_History'].str.replace('30','XXX')\n",
    "#for catboost only\n",
    "for x in cat_cols:\n",
    "    df_cat[x]=df_cat[x].fillna('XXX')\n",
    "\n",
    "##seperating dependent and independent variables\n",
    "for x in cat_cols:\n",
    "    df_cat[x]=df_cat[x].astype('object')\n",
    "\n",
    "X = df_cat.drop('Loan_Status',axis=1)\n",
    "y = df_cat['Loan_Status']\n",
    "\n",
    "##Split the train and test with 30%ratio\n",
    "\n",
    "X_train,X_test,y_train,y_test = train_test_split(X,y, test_size=.3, random_state=111,stratify =y)\n",
    "\n",
    "cat = CatBoostClassifier(\n",
    "    iterations=10,\n",
    "    learning_rate=.5,\n",
    "    depth=5,\n",
    "    random_seed=42,\n",
    "    loss_function=None,\n",
    "    )\n",
    "\n",
    "# Fit model\n",
    "\n",
    "cat_m = cat.fit(X_train, y_train, cat_features=cat_cols)\n",
    "y_train_pred = cat_m.predict(X_train)\n",
    "y_test_pred = cat_m.predict(X_test)\n",
    "print ('Train Accuracy score is  {:.3f}'.format(accuracy_score(y_train,\n",
    "        y_train_pred)))\n",
    "print ('Test Accuracy score is  {:.3f}'.format(accuracy_score(y_test,\n",
    "        y_test_pred)))\n",
    "model_performances = model_performances.append(pd.DataFrame({\n",
    "    'Model_Type': ['CAT Boost Cat Cols'],\n",
    "    'Model_Name': ['cat_m'],\n",
    "    'Model_act_name': ['adv'],\n",
    "    'Train_Accuracy_score': [accuracy_score(y_train, y_train_pred)],\n",
    "    'Test_Accuracy_score': [accuracy_score(y_test, y_test_pred)],\n",
    "    }), ignore_index=True)"
   ]
  },
  {
   "cell_type": "code",
   "execution_count": 41,
   "metadata": {},
   "outputs": [
    {
     "data": {
      "text/html": [
       "<div>\n",
       "<style scoped>\n",
       "    .dataframe tbody tr th:only-of-type {\n",
       "        vertical-align: middle;\n",
       "    }\n",
       "\n",
       "    .dataframe tbody tr th {\n",
       "        vertical-align: top;\n",
       "    }\n",
       "\n",
       "    .dataframe thead th {\n",
       "        text-align: right;\n",
       "    }\n",
       "</style>\n",
       "<table border=\"1\" class=\"dataframe\">\n",
       "  <thead>\n",
       "    <tr style=\"text-align: right;\">\n",
       "      <th></th>\n",
       "      <th>Model_Type</th>\n",
       "      <th>Model_Name</th>\n",
       "      <th>Model_act_name</th>\n",
       "      <th>Train_Accuracy_score</th>\n",
       "      <th>Test_Accuracy_score</th>\n",
       "      <th>diff</th>\n",
       "    </tr>\n",
       "  </thead>\n",
       "  <tbody>\n",
       "    <tr>\n",
       "      <td>27</td>\n",
       "      <td>CAT Boost Cat Cols</td>\n",
       "      <td>cat_m</td>\n",
       "      <td>adv</td>\n",
       "      <td>0.825175</td>\n",
       "      <td>0.789189</td>\n",
       "      <td>3.598564</td>\n",
       "    </tr>\n",
       "    <tr>\n",
       "      <td>6</td>\n",
       "      <td>Bagging</td>\n",
       "      <td>lr_bgc</td>\n",
       "      <td>BGC-LR</td>\n",
       "      <td>0.811189</td>\n",
       "      <td>0.783784</td>\n",
       "      <td>2.740503</td>\n",
       "    </tr>\n",
       "    <tr>\n",
       "      <td>23</td>\n",
       "      <td>CAT Boost Basic</td>\n",
       "      <td>cat_b</td>\n",
       "      <td>cat_b</td>\n",
       "      <td>0.808858</td>\n",
       "      <td>0.783784</td>\n",
       "      <td>2.507403</td>\n",
       "    </tr>\n",
       "    <tr>\n",
       "      <td>24</td>\n",
       "      <td>LGBM Basic</td>\n",
       "      <td>lgm_b</td>\n",
       "      <td>lgm_b</td>\n",
       "      <td>0.911422</td>\n",
       "      <td>0.783784</td>\n",
       "      <td>12.763813</td>\n",
       "    </tr>\n",
       "    <tr>\n",
       "      <td>12</td>\n",
       "      <td>Boosting</td>\n",
       "      <td>abc</td>\n",
       "      <td>ABC-Def</td>\n",
       "      <td>0.839161</td>\n",
       "      <td>0.783784</td>\n",
       "      <td>5.537706</td>\n",
       "    </tr>\n",
       "    <tr>\n",
       "      <td>8</td>\n",
       "      <td>Bagging</td>\n",
       "      <td>dt_bgc</td>\n",
       "      <td>BGC-DT</td>\n",
       "      <td>0.820513</td>\n",
       "      <td>0.783784</td>\n",
       "      <td>3.672904</td>\n",
       "    </tr>\n",
       "    <tr>\n",
       "      <td>21</td>\n",
       "      <td>Voting</td>\n",
       "      <td>vc</td>\n",
       "      <td>Voting Classifier</td>\n",
       "      <td>0.815851</td>\n",
       "      <td>0.783784</td>\n",
       "      <td>3.206703</td>\n",
       "    </tr>\n",
       "    <tr>\n",
       "      <td>9</td>\n",
       "      <td>Boosting</td>\n",
       "      <td>lr_abc</td>\n",
       "      <td>ABC-LR</td>\n",
       "      <td>0.818182</td>\n",
       "      <td>0.778378</td>\n",
       "      <td>3.980344</td>\n",
       "    </tr>\n",
       "    <tr>\n",
       "      <td>25</td>\n",
       "      <td>XGBoost Adv</td>\n",
       "      <td>xgb_n</td>\n",
       "      <td>adv</td>\n",
       "      <td>0.832168</td>\n",
       "      <td>0.778378</td>\n",
       "      <td>5.378945</td>\n",
       "    </tr>\n",
       "    <tr>\n",
       "      <td>22</td>\n",
       "      <td>XG Boost Basic</td>\n",
       "      <td>xgb_b</td>\n",
       "      <td>xgb_b</td>\n",
       "      <td>0.818182</td>\n",
       "      <td>0.778378</td>\n",
       "      <td>3.980344</td>\n",
       "    </tr>\n",
       "    <tr>\n",
       "      <td>13</td>\n",
       "      <td>Random Forest</td>\n",
       "      <td>rc</td>\n",
       "      <td>RFC</td>\n",
       "      <td>0.792541</td>\n",
       "      <td>0.778378</td>\n",
       "      <td>1.416241</td>\n",
       "    </tr>\n",
       "    <tr>\n",
       "      <td>7</td>\n",
       "      <td>Bagging</td>\n",
       "      <td>gb_bgc</td>\n",
       "      <td>BGC-GB</td>\n",
       "      <td>0.818182</td>\n",
       "      <td>0.772973</td>\n",
       "      <td>4.520885</td>\n",
       "    </tr>\n",
       "    <tr>\n",
       "      <td>1</td>\n",
       "      <td>Base</td>\n",
       "      <td>log_reg</td>\n",
       "      <td>Logis Reg</td>\n",
       "      <td>0.818182</td>\n",
       "      <td>0.772973</td>\n",
       "      <td>4.520885</td>\n",
       "    </tr>\n",
       "    <tr>\n",
       "      <td>2</td>\n",
       "      <td>Base</td>\n",
       "      <td>dtc</td>\n",
       "      <td>Dec Tree</td>\n",
       "      <td>0.822844</td>\n",
       "      <td>0.772973</td>\n",
       "      <td>4.987085</td>\n",
       "    </tr>\n",
       "    <tr>\n",
       "      <td>26</td>\n",
       "      <td>LGBM Cat Cols</td>\n",
       "      <td>lgm_c</td>\n",
       "      <td>adv</td>\n",
       "      <td>0.916084</td>\n",
       "      <td>0.767568</td>\n",
       "      <td>14.851635</td>\n",
       "    </tr>\n",
       "    <tr>\n",
       "      <td>18</td>\n",
       "      <td>Balance</td>\n",
       "      <td>bbc_dt</td>\n",
       "      <td>BAL-DT</td>\n",
       "      <td>0.813520</td>\n",
       "      <td>0.767568</td>\n",
       "      <td>4.595225</td>\n",
       "    </tr>\n",
       "    <tr>\n",
       "      <td>5</td>\n",
       "      <td>Bagging</td>\n",
       "      <td>k_bgc</td>\n",
       "      <td>BGC-KNN-5</td>\n",
       "      <td>0.813520</td>\n",
       "      <td>0.762162</td>\n",
       "      <td>5.135765</td>\n",
       "    </tr>\n",
       "    <tr>\n",
       "      <td>3</td>\n",
       "      <td>Base</td>\n",
       "      <td>gb</td>\n",
       "      <td>GB</td>\n",
       "      <td>0.804196</td>\n",
       "      <td>0.756757</td>\n",
       "      <td>4.743905</td>\n",
       "    </tr>\n",
       "    <tr>\n",
       "      <td>15</td>\n",
       "      <td>Balance</td>\n",
       "      <td>brf</td>\n",
       "      <td>BAL-RF</td>\n",
       "      <td>0.818182</td>\n",
       "      <td>0.751351</td>\n",
       "      <td>6.683047</td>\n",
       "    </tr>\n",
       "    <tr>\n",
       "      <td>16</td>\n",
       "      <td>Balance</td>\n",
       "      <td>bbc_lr</td>\n",
       "      <td>BAL-LR</td>\n",
       "      <td>0.790210</td>\n",
       "      <td>0.751351</td>\n",
       "      <td>3.885844</td>\n",
       "    </tr>\n",
       "    <tr>\n",
       "      <td>19</td>\n",
       "      <td>Balance</td>\n",
       "      <td>bbc_gb</td>\n",
       "      <td>BAL-GB</td>\n",
       "      <td>0.794872</td>\n",
       "      <td>0.751351</td>\n",
       "      <td>4.352044</td>\n",
       "    </tr>\n",
       "    <tr>\n",
       "      <td>11</td>\n",
       "      <td>Boosting</td>\n",
       "      <td>dtc_abc</td>\n",
       "      <td>ABC-DT</td>\n",
       "      <td>1.000000</td>\n",
       "      <td>0.740541</td>\n",
       "      <td>25.945946</td>\n",
       "    </tr>\n",
       "    <tr>\n",
       "      <td>14</td>\n",
       "      <td>Gradient Boost</td>\n",
       "      <td>gbc</td>\n",
       "      <td>GBC</td>\n",
       "      <td>1.000000</td>\n",
       "      <td>0.718919</td>\n",
       "      <td>28.108108</td>\n",
       "    </tr>\n",
       "    <tr>\n",
       "      <td>0</td>\n",
       "      <td>Base</td>\n",
       "      <td>knn</td>\n",
       "      <td>KNN-5</td>\n",
       "      <td>0.811189</td>\n",
       "      <td>0.708108</td>\n",
       "      <td>10.308070</td>\n",
       "    </tr>\n",
       "    <tr>\n",
       "      <td>17</td>\n",
       "      <td>Balance</td>\n",
       "      <td>bbc_k</td>\n",
       "      <td>BAL-KNN-5</td>\n",
       "      <td>0.764569</td>\n",
       "      <td>0.702703</td>\n",
       "      <td>6.186606</td>\n",
       "    </tr>\n",
       "    <tr>\n",
       "      <td>4</td>\n",
       "      <td>Base</td>\n",
       "      <td>rnc</td>\n",
       "      <td>RNC</td>\n",
       "      <td>0.799534</td>\n",
       "      <td>0.697297</td>\n",
       "      <td>10.223650</td>\n",
       "    </tr>\n",
       "    <tr>\n",
       "      <td>20</td>\n",
       "      <td>Balance</td>\n",
       "      <td>bbc_R</td>\n",
       "      <td>BAL-Rad-C</td>\n",
       "      <td>0.755245</td>\n",
       "      <td>0.681081</td>\n",
       "      <td>7.416367</td>\n",
       "    </tr>\n",
       "    <tr>\n",
       "      <td>10</td>\n",
       "      <td>Boosting</td>\n",
       "      <td>gb_abc</td>\n",
       "      <td>ABC-GB</td>\n",
       "      <td>0.641026</td>\n",
       "      <td>0.670270</td>\n",
       "      <td>-2.924463</td>\n",
       "    </tr>\n",
       "  </tbody>\n",
       "</table>\n",
       "</div>"
      ],
      "text/plain": [
       "            Model_Type Model_Name     Model_act_name  Train_Accuracy_score  \\\n",
       "27  CAT Boost Cat Cols      cat_m                adv              0.825175   \n",
       "6              Bagging     lr_bgc             BGC-LR              0.811189   \n",
       "23     CAT Boost Basic      cat_b              cat_b              0.808858   \n",
       "24          LGBM Basic      lgm_b              lgm_b              0.911422   \n",
       "12            Boosting        abc            ABC-Def              0.839161   \n",
       "8              Bagging     dt_bgc             BGC-DT              0.820513   \n",
       "21              Voting         vc  Voting Classifier              0.815851   \n",
       "9             Boosting     lr_abc             ABC-LR              0.818182   \n",
       "25         XGBoost Adv      xgb_n                adv              0.832168   \n",
       "22      XG Boost Basic      xgb_b              xgb_b              0.818182   \n",
       "13       Random Forest         rc                RFC              0.792541   \n",
       "7              Bagging     gb_bgc             BGC-GB              0.818182   \n",
       "1                 Base    log_reg          Logis Reg              0.818182   \n",
       "2                 Base        dtc           Dec Tree              0.822844   \n",
       "26       LGBM Cat Cols      lgm_c                adv              0.916084   \n",
       "18             Balance     bbc_dt             BAL-DT              0.813520   \n",
       "5              Bagging      k_bgc          BGC-KNN-5              0.813520   \n",
       "3                 Base         gb                 GB              0.804196   \n",
       "15             Balance        brf             BAL-RF              0.818182   \n",
       "16             Balance     bbc_lr             BAL-LR              0.790210   \n",
       "19             Balance     bbc_gb             BAL-GB              0.794872   \n",
       "11            Boosting    dtc_abc             ABC-DT              1.000000   \n",
       "14      Gradient Boost        gbc                GBC              1.000000   \n",
       "0                 Base        knn              KNN-5              0.811189   \n",
       "17             Balance      bbc_k          BAL-KNN-5              0.764569   \n",
       "4                 Base        rnc                RNC              0.799534   \n",
       "20             Balance      bbc_R          BAL-Rad-C              0.755245   \n",
       "10            Boosting     gb_abc             ABC-GB              0.641026   \n",
       "\n",
       "    Test_Accuracy_score       diff  \n",
       "27             0.789189   3.598564  \n",
       "6              0.783784   2.740503  \n",
       "23             0.783784   2.507403  \n",
       "24             0.783784  12.763813  \n",
       "12             0.783784   5.537706  \n",
       "8              0.783784   3.672904  \n",
       "21             0.783784   3.206703  \n",
       "9              0.778378   3.980344  \n",
       "25             0.778378   5.378945  \n",
       "22             0.778378   3.980344  \n",
       "13             0.778378   1.416241  \n",
       "7              0.772973   4.520885  \n",
       "1              0.772973   4.520885  \n",
       "2              0.772973   4.987085  \n",
       "26             0.767568  14.851635  \n",
       "18             0.767568   4.595225  \n",
       "5              0.762162   5.135765  \n",
       "3              0.756757   4.743905  \n",
       "15             0.751351   6.683047  \n",
       "16             0.751351   3.885844  \n",
       "19             0.751351   4.352044  \n",
       "11             0.740541  25.945946  \n",
       "14             0.718919  28.108108  \n",
       "0              0.708108  10.308070  \n",
       "17             0.702703   6.186606  \n",
       "4              0.697297  10.223650  \n",
       "20             0.681081   7.416367  \n",
       "10             0.670270  -2.924463  "
      ]
     },
     "execution_count": 41,
     "metadata": {},
     "output_type": "execute_result"
    }
   ],
   "source": [
    "model_performances['diff']=(model_performances['Train_Accuracy_score']-model_performances['Test_Accuracy_score'])*100\n",
    "model_performances.sort_values('Test_Accuracy_score',ascending=False)\n",
    "\n",
    "\n",
    "# good_models=model_performances[(model_performances['Model_act_name'] != 'adv')&(model_performances['Test_Accuracy_score']>=0.77)]['Model_Name'].values"
   ]
  },
  {
   "cell_type": "code",
   "execution_count": 42,
   "metadata": {},
   "outputs": [],
   "source": [
    "validate= pd.read_csv('test_lAUu6dG.csv',index_col='Loan_ID')\n",
    "#generate prediction on test data\n",
    "# validate['total_income']=validate['ApplicantIncome']+validate['CoapplicantIncome']\n",
    "for x in cat_cols:\n",
    "    fill_cat_cols(x,validate)\n",
    "for x in ['LoanAmount','Loan_Amount_Term']:\n",
    "    fill_median_num_cols(x,validate)\n",
    "for x in exclude:\n",
    "    drop_exclude_cols(x,validate)   \n",
    "validate=change_cat_num_data(validate,'Y','Y','Y')    "
   ]
  },
  {
   "cell_type": "code",
   "execution_count": 43,
   "metadata": {},
   "outputs": [],
   "source": [
    "dfcat= pd.read_csv('test_lAUu6dG.csv',index_col='Loan_ID')\n",
    "\n",
    "dfcat=change_cat_num_data(dfcat,'N','N','N')  \n",
    "\n",
    "dfcat['Credit_History']=dfcat['Credit_History'].fillna(30)\n",
    "dfcat['Credit_History']=dfcat['Credit_History'].astype('int')\n",
    "dfcat['Credit_History']=dfcat['Credit_History'].astype('str')\n",
    "dfcat['Credit_History']=dfcat['Credit_History'].str.replace('30','XXX')\n",
    "#for catboost only\n",
    "for x in cat_cols:\n",
    "    dfcat[x]=dfcat[x].fillna('XXX')\n",
    "\n",
    "##seperating dependent and independent variables\n",
    "for x in cat_cols:\n",
    "    dfcat[x]=dfcat[x].astype('object')"
   ]
  },
  {
   "cell_type": "markdown",
   "metadata": {},
   "source": [
    "# your rank would be with in 1000"
   ]
  },
  {
   "cell_type": "code",
   "execution_count": 44,
   "metadata": {},
   "outputs": [],
   "source": [
    "predc=lr_bgc.predict(validate)\n",
    "output = pd.DataFrame({'Loan_ID': validate.index,\n",
    "                       'Loan_Status': predc})\n",
    "output['Loan_Status']=output['Loan_Status'].replace(1,'Y')\n",
    "output['Loan_Status']=output['Loan_Status'].replace(0,'N')\n",
    "# output.to_csv(r'C:\\Users\\samu0315\\Desktop\\Mine\\Personal\\gl_aiml\\supervised learning\\GIT Practice\\Classification\\Binary Classfication\\AV Comp bank\\sol.csv', index=False)"
   ]
  },
  {
   "cell_type": "markdown",
   "metadata": {},
   "source": [
    "# Work in Progress"
   ]
  },
  {
   "cell_type": "code",
   "execution_count": null,
   "metadata": {},
   "outputs": [],
   "source": []
  }
 ],
 "metadata": {
  "kernelspec": {
   "display_name": "Python 3",
   "language": "python",
   "name": "python3"
  },
  "language_info": {
   "codemirror_mode": {
    "name": "ipython",
    "version": 3
   },
   "file_extension": ".py",
   "mimetype": "text/x-python",
   "name": "python",
   "nbconvert_exporter": "python",
   "pygments_lexer": "ipython3",
   "version": "3.7.4"
  }
 },
 "nbformat": 4,
 "nbformat_minor": 2
}
